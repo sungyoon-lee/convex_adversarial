{
 "cells": [
  {
   "cell_type": "markdown",
   "metadata": {},
   "source": [
    "# Robust Neural Network: MNIST example\n",
    "\n",
    "In this example, we train a simple network that is robust to adversarial noise. "
   ]
  },
  {
   "cell_type": "markdown",
   "metadata": {},
   "source": [
    "# Import Modules"
   ]
  },
  {
   "cell_type": "code",
   "execution_count": 1,
   "metadata": {},
   "outputs": [],
   "source": [
    "import torch\n",
    "import torch.nn as nn\n",
    "import torch.optim as optim\n",
    "from torch.autograd import Variable\n",
    "from torchvision import datasets, transforms\n",
    "\n",
    "import time\n",
    "import pickle\n",
    "\n",
    "import matplotlib.pyplot as plt\n",
    "import matplotlib.pyplot as plt\n",
    "%matplotlib inline\n",
    "\n",
    "import seaborn\n",
    "seaborn.set(font_scale=2)\n",
    "seaborn.set_style(\"white\")\n",
    "\n",
    "import sys\n",
    "sys.path.append(\"../\")\n",
    "\n",
    "import numpy as np\n",
    "from scipy.spatial import HalfspaceIntersection\n",
    "import warnings\n",
    "\n",
    "pritn = print\n",
    "\n",
    "from convex_adversarial import robust_loss"
   ]
  },
  {
   "cell_type": "code",
   "execution_count": 2,
   "metadata": {},
   "outputs": [
    {
     "name": "stdout",
     "output_type": "stream",
     "text": [
      "/home/tako/anaconda3/envs/lsy/bin/python\n"
     ]
    }
   ],
   "source": [
    "## 어떤 python에서 돌아가는지\n",
    "## 환경, 버전\n",
    "print(sys.executable)"
   ]
  },
  {
   "cell_type": "code",
   "execution_count": 3,
   "metadata": {},
   "outputs": [
    {
     "name": "stdout",
     "output_type": "stream",
     "text": [
      "['', '/home/tako/anaconda3/envs/lsy/lib/python36.zip', '/home/tako/anaconda3/envs/lsy/lib/python3.6', '/home/tako/anaconda3/envs/lsy/lib/python3.6/lib-dynload', '/home/tako/anaconda3/envs/lsy/lib/python3.6/site-packages', '/home/tako/anaconda3/envs/lsy/lib/python3.6/site-packages/torchvision-0.2.1-py3.6.egg', '/home/tako/anaconda3/envs/lsy/lib/python3.6/site-packages/IPython/extensions', '/home/tako/.ipython', '../']\n"
     ]
    }
   ],
   "source": [
    "print(sys.path)"
   ]
  },
  {
   "cell_type": "code",
   "execution_count": 4,
   "metadata": {},
   "outputs": [],
   "source": [
    "## warning 없애기\n",
    "if not sys.warnoptions:\n",
    "    warnings.simplefilter(\"ignore\")"
   ]
  },
  {
   "cell_type": "code",
   "execution_count": 5,
   "metadata": {
    "scrolled": true
   },
   "outputs": [
    {
     "name": "stdout",
     "output_type": "stream",
     "text": [
      "0\n",
      "<torch.cuda.device object at 0x7f218c677ac8>\n",
      "2\n",
      "TITAN Xp\n"
     ]
    }
   ],
   "source": [
    "### GPU 연결 확인\n",
    "print(torch.cuda.current_device()) #연결된 gpu idx\n",
    "print(torch.cuda.device(0))\n",
    "print(torch.cuda.device_count()) #연결된 gpu갯수\n",
    "print(torch.cuda.get_device_name(0)) #연결된 gpu이름"
   ]
  },
  {
   "cell_type": "code",
   "execution_count": 6,
   "metadata": {},
   "outputs": [],
   "source": [
    "torch.cuda.set_device(1)"
   ]
  },
  {
   "cell_type": "markdown",
   "metadata": {},
   "source": [
    "# Set Parameters"
   ]
  },
  {
   "cell_type": "code",
   "execution_count": 7,
   "metadata": {},
   "outputs": [],
   "source": [
    "batch_size = 50"
   ]
  },
  {
   "cell_type": "markdown",
   "metadata": {},
   "source": [
    "#  Load data"
   ]
  },
  {
   "cell_type": "code",
   "execution_count": 8,
   "metadata": {},
   "outputs": [],
   "source": [
    "mnist_trainset = datasets.MNIST(root='./data/', train=True, download=True, transform=transforms.ToTensor())\n",
    "mnist_testset = datasets.MNIST(root='./data/', train=False, download=True, transform=transforms.ToTensor())\n",
    "data_loader  = torch.utils.data.DataLoader(dataset=mnist_trainset,\n",
    "                                          batch_size=batch_size,\n",
    "                                          shuffle=True,\n",
    "                                          num_workers=1)\n",
    "test_data_loader  = torch.utils.data.DataLoader(dataset=mnist_testset,\n",
    "                                          batch_size=50,\n",
    "                                          shuffle=True,\n",
    "                                          num_workers=1)"
   ]
  },
  {
   "cell_type": "code",
   "execution_count": 9,
   "metadata": {},
   "outputs": [],
   "source": [
    "n_samples = mnist_trainset.train_data.shape[0]"
   ]
  },
  {
   "cell_type": "code",
   "execution_count": 10,
   "metadata": {},
   "outputs": [
    {
     "data": {
      "text/plain": [
       "(torch.Size([60000, 28, 28]), torch.Size([10000, 28, 28]))"
      ]
     },
     "execution_count": 10,
     "metadata": {},
     "output_type": "execute_result"
    }
   ],
   "source": [
    "mnist_trainset.train_data.shape, mnist_testset.test_data.shape"
   ]
  },
  {
   "cell_type": "code",
   "execution_count": 11,
   "metadata": {},
   "outputs": [
    {
     "data": {
      "text/plain": [
       "(torch.Size([60000]), torch.Size([10000]))"
      ]
     },
     "execution_count": 11,
     "metadata": {},
     "output_type": "execute_result"
    }
   ],
   "source": [
    "mnist_trainset.train_labels.shape, mnist_testset.test_labels.shape"
   ]
  },
  {
   "cell_type": "code",
   "execution_count": 12,
   "metadata": {},
   "outputs": [
    {
     "name": "stdout",
     "output_type": "stream",
     "text": [
      "max and min 255 0\n"
     ]
    },
    {
     "data": {
      "image/png": "[encoded data removed]",
      "text/plain": [
       "<Figure size 432x288 with 1 Axes>"
      ]
     },
     "metadata": {
      "needs_background": "light"
     },
     "output_type": "display_data"
    }
   ],
   "source": [
    "train_ex = mnist_trainset.train_data[0].numpy()\n",
    "print('max and min', train_ex.max(), train_ex.min())\n",
    "plt.imshow(train_ex, 'gray')\n",
    "plt.axis('off')\n",
    "plt.show()"
   ]
  },
  {
   "cell_type": "code",
   "execution_count": 13,
   "metadata": {},
   "outputs": [],
   "source": [
    "X_train = mnist_trainset.train_data\n",
    "y_train = mnist_trainset.train_labels\n",
    "X_test = mnist_testset.test_data\n",
    "y_test = mnist_testset.test_labels"
   ]
  },
  {
   "cell_type": "code",
   "execution_count": 14,
   "metadata": {},
   "outputs": [],
   "source": [
    "class Flatten(nn.Module):\n",
    "    def forward(self, x):\n",
    "        return x.view(x.size()[0], -1)"
   ]
  },
  {
   "cell_type": "markdown",
   "metadata": {},
   "source": [
    "## Robust Neural Network"
   ]
  },
  {
   "cell_type": "code",
   "execution_count": 15,
   "metadata": {},
   "outputs": [],
   "source": [
    "epsilon = 0.1 #0.5"
   ]
  },
  {
   "cell_type": "code",
   "execution_count": 16,
   "metadata": {},
   "outputs": [
    {
     "name": "stdout",
     "output_type": "stream",
     "text": [
      "------------------------------------------------------------\n",
      "<<<<< 0 th iteration >>>>>\n",
      "Robust xentropy loss: 3.0254, Robust err: 1.000\n",
      "Plain err: 0.88000\n",
      "Robust xentropy loss: 0.8922, Robust err: 0.260\n",
      "Plain err: 0.10000\n",
      "------------------------------------------------------------\n",
      "<<<<< 1 th iteration >>>>>\n",
      "Robust xentropy loss: 0.8276, Robust err: 0.200\n",
      "Plain err: 0.06000\n",
      "Robust xentropy loss: 0.7115, Robust err: 0.200\n",
      "Plain err: 0.06000\n",
      "------------------------------------------------------------\n",
      "<<<<< 2 th iteration >>>>>\n",
      "Robust xentropy loss: 0.6251, Robust err: 0.220\n",
      "Plain err: 0.06000\n",
      "Robust xentropy loss: 0.5936, Robust err: 0.220\n",
      "Plain err: 0.12000\n",
      "------------------------------------------------------------\n",
      "<<<<< 3 th iteration >>>>>\n",
      "Robust xentropy loss: 0.4284, Robust err: 0.160\n",
      "Plain err: 0.06000\n",
      "Robust xentropy loss: 0.6944, Robust err: 0.160\n",
      "Plain err: 0.16000\n",
      "------------------------------------------------------------\n",
      "<<<<< 4 th iteration >>>>>\n",
      "Robust xentropy loss: 0.3704, Robust err: 0.140\n",
      "Plain err: 0.02000\n",
      "Robust xentropy loss: 0.5447, Robust err: 0.200\n",
      "Plain err: 0.06000\n",
      "------------------------------------------------------------\n",
      "<<<<< 5 th iteration >>>>>\n",
      "Robust xentropy loss: 0.3938, Robust err: 0.120\n",
      "Plain err: 0.04000\n",
      "Robust xentropy loss: 0.4607, Robust err: 0.180\n",
      "Plain err: 0.08000\n",
      "------------------------------------------------------------\n",
      "<<<<< 6 th iteration >>>>>\n",
      "Robust xentropy loss: 0.5101, Robust err: 0.140\n",
      "Plain err: 0.06000\n",
      "Robust xentropy loss: 0.4544, Robust err: 0.100\n",
      "Plain err: 0.06000\n",
      "------------------------------------------------------------\n",
      "<<<<< 7 th iteration >>>>>\n",
      "Robust xentropy loss: 0.6687, Robust err: 0.140\n",
      "Plain err: 0.06000\n",
      "Robust xentropy loss: 0.3026, Robust err: 0.080\n",
      "Plain err: 0.02000\n",
      "------------------------------------------------------------\n",
      "<<<<< 8 th iteration >>>>>\n",
      "Robust xentropy loss: 0.5394, Robust err: 0.160\n",
      "Plain err: 0.06000\n",
      "Robust xentropy loss: 0.3136, Robust err: 0.120\n",
      "Plain err: 0.02000\n",
      "------------------------------------------------------------\n",
      "<<<<< 9 th iteration >>>>>\n",
      "Robust xentropy loss: 0.6720, Robust err: 0.180\n",
      "Plain err: 0.06000\n",
      "Robust xentropy loss: 0.5153, Robust err: 0.140\n",
      "Plain err: 0.08000\n",
      "------------------------------------------------------------\n",
      "<<<<< 10 th iteration >>>>>\n",
      "Robust xentropy loss: 0.4987, Robust err: 0.180\n",
      "Plain err: 0.06000\n",
      "Robust xentropy loss: 0.4534, Robust err: 0.140\n",
      "Plain err: 0.06000\n",
      "------------------------------------------------------------\n",
      "<<<<< 11 th iteration >>>>>\n",
      "Robust xentropy loss: 0.4819, Robust err: 0.100\n",
      "Plain err: 0.08000\n",
      "Robust xentropy loss: 0.2012, Robust err: 0.060\n",
      "Plain err: 0.02000\n",
      "------------------------------------------------------------\n",
      "<<<<< 12 th iteration >>>>>\n",
      "Robust xentropy loss: 0.2990, Robust err: 0.080\n",
      "Plain err: 0.04000\n",
      "Robust xentropy loss: 0.2187, Robust err: 0.040\n",
      "Plain err: 0.04000\n",
      "------------------------------------------------------------\n",
      "<<<<< 13 th iteration >>>>>\n",
      "Robust xentropy loss: 0.5115, Robust err: 0.160\n",
      "Plain err: 0.08000\n",
      "Robust xentropy loss: 0.3874, Robust err: 0.100\n",
      "Plain err: 0.04000\n",
      "------------------------------------------------------------\n",
      "<<<<< 14 th iteration >>>>>\n",
      "Robust xentropy loss: 0.2917, Robust err: 0.060\n",
      "Plain err: 0.04000\n",
      "Robust xentropy loss: 0.2259, Robust err: 0.060\n",
      "Plain err: 0.02000\n",
      "------------------------------------------------------------\n",
      "<<<<< 15 th iteration >>>>>\n",
      "Robust xentropy loss: 0.3443, Robust err: 0.140\n",
      "Plain err: 0.02000\n",
      "Robust xentropy loss: 0.4107, Robust err: 0.140\n",
      "Plain err: 0.08000\n",
      "------------------------------------------------------------\n",
      "<<<<< 16 th iteration >>>>>\n",
      "Robust xentropy loss: 0.2837, Robust err: 0.100\n",
      "Plain err: 0.04000\n",
      "Robust xentropy loss: 0.3093, Robust err: 0.080\n",
      "Plain err: 0.04000\n",
      "------------------------------------------------------------\n",
      "<<<<< 17 th iteration >>>>>\n",
      "Robust xentropy loss: 0.3607, Robust err: 0.120\n",
      "Plain err: 0.06000\n",
      "Robust xentropy loss: 0.1122, Robust err: 0.040\n",
      "Plain err: 0.00000\n",
      "------------------------------------------------------------\n",
      "<<<<< 18 th iteration >>>>>\n",
      "Robust xentropy loss: 0.1994, Robust err: 0.040\n",
      "Plain err: 0.02000\n",
      "Robust xentropy loss: 0.1678, Robust err: 0.080\n",
      "Plain err: 0.02000\n",
      "------------------------------------------------------------\n",
      "<<<<< 19 th iteration >>>>>\n",
      "Robust xentropy loss: 0.1841, Robust err: 0.060\n",
      "Plain err: 0.00000\n",
      "Robust xentropy loss: 0.2587, Robust err: 0.080\n",
      "Plain err: 0.04000\n",
      "------------------------------------------------------------\n",
      "<<<<< 20 th iteration >>>>>\n",
      "Robust xentropy loss: 0.4119, Robust err: 0.120\n",
      "Plain err: 0.06000\n",
      "Robust xentropy loss: 0.2186, Robust err: 0.100\n",
      "Plain err: 0.00000\n",
      "------------------------------------------------------------\n",
      "<<<<< 21 th iteration >>>>>\n",
      "Robust xentropy loss: 0.2443, Robust err: 0.080\n",
      "Plain err: 0.04000\n",
      "Robust xentropy loss: 0.1529, Robust err: 0.040\n",
      "Plain err: 0.04000\n",
      "------------------------------------------------------------\n",
      "<<<<< 22 th iteration >>>>>\n",
      "Robust xentropy loss: 0.1648, Robust err: 0.040\n",
      "Plain err: 0.02000\n",
      "Robust xentropy loss: 0.2902, Robust err: 0.100\n",
      "Plain err: 0.02000\n",
      "------------------------------------------------------------\n",
      "<<<<< 23 th iteration >>>>>\n",
      "Robust xentropy loss: 0.4054, Robust err: 0.100\n",
      "Plain err: 0.04000\n",
      "Robust xentropy loss: 0.2882, Robust err: 0.120\n",
      "Plain err: 0.06000\n",
      "------------------------------------------------------------\n",
      "<<<<< 24 th iteration >>>>>\n",
      "Robust xentropy loss: 0.3259, Robust err: 0.100\n",
      "Plain err: 0.06000\n",
      "Robust xentropy loss: 0.2309, Robust err: 0.060\n",
      "Plain err: 0.02000\n",
      "------------------------------------------------------------\n",
      "<<<<< 25 th iteration >>>>>\n",
      "Robust xentropy loss: 0.5338, Robust err: 0.140\n",
      "Plain err: 0.06000\n",
      "Robust xentropy loss: 0.3263, Robust err: 0.100\n",
      "Plain err: 0.04000\n",
      "------------------------------------------------------------\n",
      "<<<<< 26 th iteration >>>>>\n",
      "Robust xentropy loss: 0.1698, Robust err: 0.040\n",
      "Plain err: 0.02000\n",
      "Robust xentropy loss: 0.3057, Robust err: 0.100\n",
      "Plain err: 0.06000\n",
      "------------------------------------------------------------\n",
      "<<<<< 27 th iteration >>>>>\n",
      "Robust xentropy loss: 0.2787, Robust err: 0.080\n",
      "Plain err: 0.04000\n",
      "Robust xentropy loss: 0.3239, Robust err: 0.080\n",
      "Plain err: 0.06000\n",
      "------------------------------------------------------------\n",
      "<<<<< 28 th iteration >>>>>\n",
      "Robust xentropy loss: 0.4402, Robust err: 0.120\n",
      "Plain err: 0.06000\n",
      "Robust xentropy loss: 0.3870, Robust err: 0.140\n",
      "Plain err: 0.06000\n",
      "------------------------------------------------------------\n",
      "<<<<< 29 th iteration >>>>>\n",
      "Robust xentropy loss: 0.2010, Robust err: 0.060\n",
      "Plain err: 0.02000\n",
      "Robust xentropy loss: 0.1633, Robust err: 0.040\n",
      "Plain err: 0.02000\n",
      "------------------------------------------------------------\n",
      "<<<<< 30 th iteration >>>>>\n",
      "Robust xentropy loss: 0.2784, Robust err: 0.120\n",
      "Plain err: 0.04000\n",
      "Robust xentropy loss: 0.2776, Robust err: 0.080\n",
      "Plain err: 0.02000\n",
      "------------------------------------------------------------\n",
      "<<<<< 31 th iteration >>>>>\n",
      "Robust xentropy loss: 0.2894, Robust err: 0.080\n",
      "Plain err: 0.06000\n",
      "Robust xentropy loss: 0.1582, Robust err: 0.040\n",
      "Plain err: 0.02000\n",
      "------------------------------------------------------------\n",
      "<<<<< 32 th iteration >>>>>\n",
      "Robust xentropy loss: 0.3059, Robust err: 0.100\n",
      "Plain err: 0.06000\n",
      "Robust xentropy loss: 0.4601, Robust err: 0.160\n",
      "Plain err: 0.02000\n",
      "------------------------------------------------------------\n",
      "<<<<< 33 th iteration >>>>>\n",
      "Robust xentropy loss: 0.2820, Robust err: 0.060\n",
      "Plain err: 0.04000\n",
      "Robust xentropy loss: 0.1244, Robust err: 0.040\n",
      "Plain err: 0.00000\n",
      "------------------------------------------------------------\n",
      "<<<<< 34 th iteration >>>>>\n",
      "Robust xentropy loss: 0.0765, Robust err: 0.000\n",
      "Plain err: 0.00000\n",
      "Robust xentropy loss: 0.4094, Robust err: 0.140\n",
      "Plain err: 0.08000\n",
      "------------------------------------------------------------\n",
      "<<<<< 35 th iteration >>>>>\n",
      "Robust xentropy loss: 0.1604, Robust err: 0.040\n",
      "Plain err: 0.02000\n",
      "Robust xentropy loss: 0.2371, Robust err: 0.100\n",
      "Plain err: 0.02000\n",
      "------------------------------------------------------------\n",
      "<<<<< 36 th iteration >>>>>\n",
      "Robust xentropy loss: 0.2996, Robust err: 0.080\n",
      "Plain err: 0.04000\n",
      "Robust xentropy loss: 0.5156, Robust err: 0.120\n",
      "Plain err: 0.08000\n"
     ]
    },
    {
     "name": "stdout",
     "output_type": "stream",
     "text": [
      "------------------------------------------------------------\n",
      "<<<<< 37 th iteration >>>>>\n",
      "Robust xentropy loss: 0.1880, Robust err: 0.040\n",
      "Plain err: 0.02000\n",
      "Robust xentropy loss: 0.2694, Robust err: 0.080\n",
      "Plain err: 0.02000\n",
      "------------------------------------------------------------\n",
      "<<<<< 38 th iteration >>>>>\n",
      "Robust xentropy loss: 0.1338, Robust err: 0.040\n",
      "Plain err: 0.00000\n",
      "Robust xentropy loss: 0.2599, Robust err: 0.020\n",
      "Plain err: 0.02000\n",
      "------------------------------------------------------------\n",
      "<<<<< 39 th iteration >>>>>\n",
      "Robust xentropy loss: 0.3803, Robust err: 0.080\n",
      "Plain err: 0.02000\n",
      "Robust xentropy loss: 0.6431, Robust err: 0.160\n",
      "Plain err: 0.08000\n",
      "------------------------------------------------------------\n",
      "<<<<< 40 th iteration >>>>>\n",
      "Robust xentropy loss: 0.1259, Robust err: 0.040\n",
      "Plain err: 0.00000\n",
      "Robust xentropy loss: 0.1760, Robust err: 0.060\n",
      "Plain err: 0.02000\n",
      "------------------------------------------------------------\n",
      "<<<<< 41 th iteration >>>>>\n",
      "Robust xentropy loss: 0.3254, Robust err: 0.120\n",
      "Plain err: 0.06000\n",
      "Robust xentropy loss: 0.1816, Robust err: 0.080\n",
      "Plain err: 0.00000\n",
      "------------------------------------------------------------\n",
      "<<<<< 42 th iteration >>>>>\n",
      "Robust xentropy loss: 0.1928, Robust err: 0.060\n",
      "Plain err: 0.02000\n",
      "Robust xentropy loss: 0.1838, Robust err: 0.060\n",
      "Plain err: 0.02000\n",
      "------------------------------------------------------------\n",
      "<<<<< 43 th iteration >>>>>\n",
      "Robust xentropy loss: 0.0814, Robust err: 0.020\n",
      "Plain err: 0.00000\n",
      "Robust xentropy loss: 0.2465, Robust err: 0.100\n",
      "Plain err: 0.02000\n",
      "------------------------------------------------------------\n",
      "<<<<< 44 th iteration >>>>>\n",
      "Robust xentropy loss: 0.2202, Robust err: 0.060\n",
      "Plain err: 0.02000\n",
      "Robust xentropy loss: 0.3610, Robust err: 0.080\n",
      "Plain err: 0.02000\n",
      "------------------------------------------------------------\n",
      "<<<<< 45 th iteration >>>>>\n",
      "Robust xentropy loss: 0.2198, Robust err: 0.080\n",
      "Plain err: 0.02000\n",
      "Robust xentropy loss: 0.1731, Robust err: 0.040\n",
      "Plain err: 0.00000\n",
      "------------------------------------------------------------\n",
      "<<<<< 46 th iteration >>>>>\n",
      "Robust xentropy loss: 0.1571, Robust err: 0.040\n",
      "Plain err: 0.04000\n",
      "Robust xentropy loss: 0.1433, Robust err: 0.040\n",
      "Plain err: 0.00000\n",
      "------------------------------------------------------------\n",
      "<<<<< 47 th iteration >>>>>\n",
      "Robust xentropy loss: 0.1590, Robust err: 0.060\n",
      "Plain err: 0.02000\n",
      "Robust xentropy loss: 0.3651, Robust err: 0.060\n",
      "Plain err: 0.04000\n",
      "------------------------------------------------------------\n",
      "<<<<< 48 th iteration >>>>>\n",
      "Robust xentropy loss: 0.2527, Robust err: 0.080\n",
      "Plain err: 0.02000\n",
      "Robust xentropy loss: 0.2934, Robust err: 0.120\n",
      "Plain err: 0.06000\n",
      "------------------------------------------------------------\n",
      "<<<<< 49 th iteration >>>>>\n",
      "Robust xentropy loss: 0.0906, Robust err: 0.020\n",
      "Plain err: 0.00000\n",
      "Robust xentropy loss: 0.2596, Robust err: 0.060\n",
      "Plain err: 0.06000\n",
      "------------------------------------------------------------\n",
      "<<<<< 50 th iteration >>>>>\n",
      "Robust xentropy loss: 0.3021, Robust err: 0.120\n",
      "Plain err: 0.04000\n",
      "Robust xentropy loss: 0.3433, Robust err: 0.120\n",
      "Plain err: 0.08000\n",
      "------------------------------------------------------------\n",
      "<<<<< 51 th iteration >>>>>\n",
      "Robust xentropy loss: 0.2523, Robust err: 0.100\n",
      "Plain err: 0.04000\n",
      "Robust xentropy loss: 0.3819, Robust err: 0.140\n",
      "Plain err: 0.04000\n",
      "------------------------------------------------------------\n",
      "<<<<< 52 th iteration >>>>>\n",
      "Robust xentropy loss: 0.2319, Robust err: 0.080\n",
      "Plain err: 0.02000\n",
      "Robust xentropy loss: 0.1073, Robust err: 0.060\n",
      "Plain err: 0.00000\n",
      "------------------------------------------------------------\n",
      "<<<<< 53 th iteration >>>>>\n",
      "Robust xentropy loss: 0.0851, Robust err: 0.020\n",
      "Plain err: 0.02000\n",
      "Robust xentropy loss: 0.2048, Robust err: 0.040\n",
      "Plain err: 0.02000\n",
      "------------------------------------------------------------\n",
      "<<<<< 54 th iteration >>>>>\n",
      "Robust xentropy loss: 0.1810, Robust err: 0.080\n",
      "Plain err: 0.02000\n",
      "Robust xentropy loss: 0.3213, Robust err: 0.080\n",
      "Plain err: 0.02000\n",
      "------------------------------------------------------------\n",
      "<<<<< 55 th iteration >>>>>\n",
      "Robust xentropy loss: 0.1369, Robust err: 0.020\n",
      "Plain err: 0.02000\n",
      "Robust xentropy loss: 0.2178, Robust err: 0.120\n",
      "Plain err: 0.00000\n",
      "------------------------------------------------------------\n",
      "<<<<< 56 th iteration >>>>>\n",
      "Robust xentropy loss: 0.2397, Robust err: 0.080\n",
      "Plain err: 0.02000\n",
      "Robust xentropy loss: 0.1408, Robust err: 0.040\n",
      "Plain err: 0.02000\n",
      "------------------------------------------------------------\n",
      "<<<<< 57 th iteration >>>>>\n",
      "Robust xentropy loss: 0.4335, Robust err: 0.100\n",
      "Plain err: 0.08000\n",
      "Robust xentropy loss: 0.3255, Robust err: 0.080\n",
      "Plain err: 0.04000\n",
      "------------------------------------------------------------\n",
      "<<<<< 58 th iteration >>>>>\n",
      "Robust xentropy loss: 0.1625, Robust err: 0.040\n",
      "Plain err: 0.00000\n",
      "Robust xentropy loss: 0.2149, Robust err: 0.060\n",
      "Plain err: 0.02000\n",
      "------------------------------------------------------------\n",
      "<<<<< 59 th iteration >>>>>\n",
      "Robust xentropy loss: 0.1191, Robust err: 0.040\n",
      "Plain err: 0.02000\n",
      "Robust xentropy loss: 0.1651, Robust err: 0.060\n",
      "Plain err: 0.00000\n",
      "------------------------------------------------------------\n",
      "<<<<< 60 th iteration >>>>>\n",
      "Robust xentropy loss: 0.2044, Robust err: 0.040\n",
      "Plain err: 0.04000\n",
      "Robust xentropy loss: 0.3216, Robust err: 0.120\n",
      "Plain err: 0.04000\n",
      "------------------------------------------------------------\n",
      "<<<<< 61 th iteration >>>>>\n",
      "Robust xentropy loss: 0.1092, Robust err: 0.040\n",
      "Plain err: 0.00000\n",
      "Robust xentropy loss: 0.1003, Robust err: 0.020\n",
      "Plain err: 0.00000\n",
      "------------------------------------------------------------\n",
      "<<<<< 62 th iteration >>>>>\n",
      "Robust xentropy loss: 0.1747, Robust err: 0.060\n",
      "Plain err: 0.02000\n",
      "Robust xentropy loss: 0.1556, Robust err: 0.040\n",
      "Plain err: 0.02000\n",
      "------------------------------------------------------------\n",
      "<<<<< 63 th iteration >>>>>\n",
      "Robust xentropy loss: 0.4433, Robust err: 0.120\n",
      "Plain err: 0.08000\n",
      "Robust xentropy loss: 0.2821, Robust err: 0.060\n",
      "Plain err: 0.04000\n",
      "------------------------------------------------------------\n",
      "<<<<< 64 th iteration >>>>>\n",
      "Robust xentropy loss: 0.1566, Robust err: 0.040\n",
      "Plain err: 0.02000\n",
      "Robust xentropy loss: 0.4244, Robust err: 0.060\n",
      "Plain err: 0.02000\n",
      "------------------------------------------------------------\n",
      "<<<<< 65 th iteration >>>>>\n",
      "Robust xentropy loss: 0.1811, Robust err: 0.060\n",
      "Plain err: 0.00000\n",
      "Robust xentropy loss: 0.2025, Robust err: 0.080\n",
      "Plain err: 0.02000\n",
      "------------------------------------------------------------\n",
      "<<<<< 66 th iteration >>>>>\n",
      "Robust xentropy loss: 0.4183, Robust err: 0.100\n",
      "Plain err: 0.04000\n",
      "Robust xentropy loss: 0.2844, Robust err: 0.120\n",
      "Plain err: 0.00000\n",
      "------------------------------------------------------------\n",
      "<<<<< 67 th iteration >>>>>\n",
      "Robust xentropy loss: 0.2464, Robust err: 0.040\n",
      "Plain err: 0.02000\n",
      "Robust xentropy loss: 0.1884, Robust err: 0.120\n",
      "Plain err: 0.00000\n",
      "------------------------------------------------------------\n",
      "<<<<< 68 th iteration >>>>>\n",
      "Robust xentropy loss: 0.3689, Robust err: 0.080\n",
      "Plain err: 0.04000\n",
      "Robust xentropy loss: 0.1770, Robust err: 0.040\n",
      "Plain err: 0.02000\n",
      "------------------------------------------------------------\n",
      "<<<<< 69 th iteration >>>>>\n",
      "Robust xentropy loss: 0.1314, Robust err: 0.020\n",
      "Plain err: 0.02000\n",
      "Robust xentropy loss: 0.1587, Robust err: 0.020\n",
      "Plain err: 0.02000\n",
      "------------------------------------------------------------\n",
      "<<<<< 70 th iteration >>>>>\n",
      "Robust xentropy loss: 0.1992, Robust err: 0.040\n",
      "Plain err: 0.02000\n",
      "Robust xentropy loss: 0.2115, Robust err: 0.080\n",
      "Plain err: 0.00000\n",
      "------------------------------------------------------------\n",
      "<<<<< 71 th iteration >>>>>\n",
      "Robust xentropy loss: 0.1881, Robust err: 0.020\n",
      "Plain err: 0.02000\n",
      "Robust xentropy loss: 0.2723, Robust err: 0.100\n",
      "Plain err: 0.04000\n",
      "------------------------------------------------------------\n",
      "<<<<< 72 th iteration >>>>>\n",
      "Robust xentropy loss: 0.2470, Robust err: 0.040\n",
      "Plain err: 0.04000\n",
      "Robust xentropy loss: 0.1081, Robust err: 0.040\n",
      "Plain err: 0.00000\n",
      "------------------------------------------------------------\n",
      "<<<<< 73 th iteration >>>>>\n",
      "Robust xentropy loss: 0.1172, Robust err: 0.040\n",
      "Plain err: 0.00000\n",
      "Robust xentropy loss: 0.3179, Robust err: 0.120\n",
      "Plain err: 0.04000\n"
     ]
    },
    {
     "name": "stdout",
     "output_type": "stream",
     "text": [
      "------------------------------------------------------------\n",
      "<<<<< 74 th iteration >>>>>\n",
      "Robust xentropy loss: 0.0876, Robust err: 0.020\n",
      "Plain err: 0.00000\n",
      "Robust xentropy loss: 0.1346, Robust err: 0.040\n",
      "Plain err: 0.02000\n",
      "------------------------------------------------------------\n",
      "<<<<< 75 th iteration >>>>>\n",
      "Robust xentropy loss: 0.3068, Robust err: 0.060\n",
      "Plain err: 0.06000\n",
      "Robust xentropy loss: 0.3115, Robust err: 0.080\n",
      "Plain err: 0.04000\n",
      "------------------------------------------------------------\n",
      "<<<<< 76 th iteration >>>>>\n",
      "Robust xentropy loss: 0.1599, Robust err: 0.040\n",
      "Plain err: 0.02000\n",
      "Robust xentropy loss: 0.2193, Robust err: 0.060\n",
      "Plain err: 0.02000\n",
      "------------------------------------------------------------\n",
      "<<<<< 77 th iteration >>>>>\n",
      "Robust xentropy loss: 0.1281, Robust err: 0.040\n",
      "Plain err: 0.00000\n",
      "Robust xentropy loss: 0.2129, Robust err: 0.120\n",
      "Plain err: 0.00000\n",
      "------------------------------------------------------------\n",
      "<<<<< 78 th iteration >>>>>\n",
      "Robust xentropy loss: 0.2871, Robust err: 0.080\n",
      "Plain err: 0.06000\n",
      "Robust xentropy loss: 0.0919, Robust err: 0.020\n",
      "Plain err: 0.00000\n",
      "------------------------------------------------------------\n",
      "<<<<< 79 th iteration >>>>>\n",
      "Robust xentropy loss: 0.2404, Robust err: 0.080\n",
      "Plain err: 0.02000\n",
      "Robust xentropy loss: 0.2099, Robust err: 0.040\n",
      "Plain err: 0.04000\n",
      "------------------------------------------------------------\n",
      "<<<<< 80 th iteration >>>>>\n",
      "Robust xentropy loss: 0.1370, Robust err: 0.060\n",
      "Plain err: 0.00000\n",
      "Robust xentropy loss: 0.2098, Robust err: 0.060\n",
      "Plain err: 0.02000\n",
      "------------------------------------------------------------\n",
      "<<<<< 81 th iteration >>>>>\n",
      "Robust xentropy loss: 0.4708, Robust err: 0.140\n",
      "Plain err: 0.08000\n",
      "Robust xentropy loss: 0.4922, Robust err: 0.100\n",
      "Plain err: 0.08000\n",
      "------------------------------------------------------------\n",
      "<<<<< 82 th iteration >>>>>\n",
      "Robust xentropy loss: 0.4276, Robust err: 0.120\n",
      "Plain err: 0.08000\n",
      "Robust xentropy loss: 0.3508, Robust err: 0.120\n",
      "Plain err: 0.06000\n",
      "------------------------------------------------------------\n",
      "<<<<< 83 th iteration >>>>>\n",
      "Robust xentropy loss: 0.1320, Robust err: 0.040\n",
      "Plain err: 0.02000\n",
      "Robust xentropy loss: 0.4614, Robust err: 0.120\n",
      "Plain err: 0.04000\n",
      "------------------------------------------------------------\n",
      "<<<<< 84 th iteration >>>>>\n",
      "Robust xentropy loss: 0.4070, Robust err: 0.080\n",
      "Plain err: 0.02000\n",
      "Robust xentropy loss: 0.1397, Robust err: 0.040\n",
      "Plain err: 0.02000\n",
      "------------------------------------------------------------\n",
      "<<<<< 85 th iteration >>>>>\n",
      "Robust xentropy loss: 0.3018, Robust err: 0.080\n",
      "Plain err: 0.02000\n",
      "Robust xentropy loss: 0.2298, Robust err: 0.080\n",
      "Plain err: 0.04000\n",
      "------------------------------------------------------------\n",
      "<<<<< 86 th iteration >>>>>\n",
      "Robust xentropy loss: 0.1803, Robust err: 0.080\n",
      "Plain err: 0.02000\n",
      "Robust xentropy loss: 0.1569, Robust err: 0.080\n",
      "Plain err: 0.02000\n",
      "------------------------------------------------------------\n",
      "<<<<< 87 th iteration >>>>>\n",
      "Robust xentropy loss: 0.2465, Robust err: 0.060\n",
      "Plain err: 0.04000\n",
      "Robust xentropy loss: 0.2167, Robust err: 0.060\n",
      "Plain err: 0.02000\n",
      "------------------------------------------------------------\n",
      "<<<<< 88 th iteration >>>>>\n",
      "Robust xentropy loss: 0.1741, Robust err: 0.080\n",
      "Plain err: 0.02000\n",
      "Robust xentropy loss: 0.2661, Robust err: 0.060\n",
      "Plain err: 0.02000\n",
      "------------------------------------------------------------\n",
      "<<<<< 89 th iteration >>>>>\n",
      "Robust xentropy loss: 0.2034, Robust err: 0.080\n",
      "Plain err: 0.00000\n",
      "Robust xentropy loss: 0.1908, Robust err: 0.080\n",
      "Plain err: 0.02000\n",
      "------------------------------------------------------------\n",
      "<<<<< 90 th iteration >>>>>\n",
      "Robust xentropy loss: 0.3911, Robust err: 0.120\n",
      "Plain err: 0.06000\n",
      "Robust xentropy loss: 0.2451, Robust err: 0.140\n",
      "Plain err: 0.00000\n",
      "------------------------------------------------------------\n",
      "<<<<< 91 th iteration >>>>>\n",
      "Robust xentropy loss: 0.2213, Robust err: 0.100\n",
      "Plain err: 0.00000\n",
      "Robust xentropy loss: 0.1126, Robust err: 0.020\n",
      "Plain err: 0.00000\n",
      "------------------------------------------------------------\n",
      "<<<<< 92 th iteration >>>>>\n",
      "Robust xentropy loss: 0.2754, Robust err: 0.080\n",
      "Plain err: 0.02000\n",
      "Robust xentropy loss: 0.2818, Robust err: 0.100\n",
      "Plain err: 0.04000\n",
      "------------------------------------------------------------\n",
      "<<<<< 93 th iteration >>>>>\n",
      "Robust xentropy loss: 0.2501, Robust err: 0.080\n",
      "Plain err: 0.02000\n",
      "Robust xentropy loss: 0.3813, Robust err: 0.080\n",
      "Plain err: 0.06000\n",
      "------------------------------------------------------------\n",
      "<<<<< 94 th iteration >>>>>\n",
      "Robust xentropy loss: 0.4410, Robust err: 0.080\n",
      "Plain err: 0.04000\n",
      "Robust xentropy loss: 0.1149, Robust err: 0.040\n",
      "Plain err: 0.02000\n",
      "------------------------------------------------------------\n",
      "<<<<< 95 th iteration >>>>>\n",
      "Robust xentropy loss: 0.0840, Robust err: 0.020\n",
      "Plain err: 0.00000\n",
      "Robust xentropy loss: 0.1794, Robust err: 0.060\n",
      "Plain err: 0.02000\n",
      "------------------------------------------------------------\n",
      "<<<<< 96 th iteration >>>>>\n",
      "Robust xentropy loss: 0.2017, Robust err: 0.040\n",
      "Plain err: 0.04000\n",
      "Robust xentropy loss: 0.1600, Robust err: 0.040\n",
      "Plain err: 0.02000\n",
      "------------------------------------------------------------\n",
      "<<<<< 97 th iteration >>>>>\n",
      "Robust xentropy loss: 0.2822, Robust err: 0.060\n",
      "Plain err: 0.02000\n",
      "Robust xentropy loss: 0.2848, Robust err: 0.100\n",
      "Plain err: 0.04000\n",
      "------------------------------------------------------------\n",
      "<<<<< 98 th iteration >>>>>\n",
      "Robust xentropy loss: 0.1642, Robust err: 0.040\n",
      "Plain err: 0.02000\n",
      "Robust xentropy loss: 0.3454, Robust err: 0.120\n",
      "Plain err: 0.04000\n",
      "------------------------------------------------------------\n",
      "<<<<< 99 th iteration >>>>>\n",
      "Robust xentropy loss: 0.1363, Robust err: 0.040\n",
      "Plain err: 0.02000\n",
      "Robust xentropy loss: 0.3205, Robust err: 0.080\n",
      "Plain err: 0.04000\n",
      "============================================================\n",
      "last loss: 0.037006, robust_ce: 0.156693, robust_err: 0.040000\n",
      "time taken:  15365.984694004059\n"
     ]
    }
   ],
   "source": [
    "#torch.manual_seed(1)\n",
    "robust_net = nn.Sequential(\n",
    "    nn.Conv2d(1,16, 2, stride=(2,2)),\n",
    "    nn.ReLU(),\n",
    "    nn.Conv2d(16,32, 2, stride=(2,2)),\n",
    "    nn.ReLU(),\n",
    "    Flatten(),\n",
    "    nn.Linear(7*7*32,100),\n",
    "    nn.ReLU(),\n",
    "    nn.Linear(100,10)\n",
    ")\n",
    "\n",
    "data = []\n",
    "opt = optim.Adam(robust_net.parameters(), lr=0.001) ### robust_net.cuda()??\n",
    "\n",
    "st = time.time()\n",
    "for i in range(100):\n",
    "    print('-'*60)\n",
    "    print('<'*5, i,'th iteration', '>'*5)\n",
    "    for j, (batch_images, batch_labels) in enumerate(data_loader):\n",
    "        X = Variable(batch_images.cuda())\n",
    "        Y = Variable(batch_labels.cuda())        \n",
    "        robust_ce, robust_err = robust_loss(robust_net.cuda(), epsilon, X, batch_labels.cuda())\n",
    "        out = robust_net.cuda()(X)\n",
    "        \n",
    "        l2 = nn.CrossEntropyLoss()(out, Y)\n",
    "        err = (out.max(1)[1].data != batch_labels.cuda()).float().mean()\n",
    "        data.append([l2.data[0], robust_ce.data[0], err, robust_err])\n",
    "        if j % (n_samples//(2*batch_size)) == 0:\n",
    "            print('Robust xentropy loss: %.4f, Robust err: %.3f'%(robust_ce.cpu().data.numpy(), robust_err))\n",
    "            print('Plain err: %.5f'%(err))\n",
    "        opt.zero_grad()\n",
    "        robust_ce.backward()\n",
    "        opt.step()\n",
    "        if j % 10 == 0:\n",
    "             print('%.2f %%'%(100*j/(n_samples/(batch_size))), end='\\r')\n",
    "#         if j % 10 == 0 and j != (n_samples//batch_size-1):\n",
    "#             print('.', end='')\n",
    "#         if j == (n_samples//batch_size-1):\n",
    "#             print('.')            \n",
    "print('='*60)\n",
    "print('last loss: %.6f, robust_ce: %.6f, robust_err: %.6f'%(l2.data[0], robust_ce.data[0], robust_err))\n",
    "tt = time.time()-st\n",
    "print('time taken: ', tt)"
   ]
  },
  {
   "cell_type": "markdown",
   "metadata": {},
   "source": [
    "# Plot"
   ]
  },
  {
   "cell_type": "code",
   "execution_count": 81,
   "metadata": {},
   "outputs": [],
   "source": [
    "ppp = [i[-1] for i in data]"
   ]
  },
  {
   "cell_type": "code",
   "execution_count": 17,
   "metadata": {},
   "outputs": [],
   "source": [
    "p= [i[2].cpu().data.numpy() for i in data]"
   ]
  },
  {
   "cell_type": "code",
   "execution_count": 18,
   "metadata": {},
   "outputs": [
    {
     "data": {
      "text/plain": [
       "0.019199999"
      ]
     },
     "execution_count": 18,
     "metadata": {},
     "output_type": "execute_result"
    }
   ],
   "source": [
    "np.mean(p[-100:])"
   ]
  },
  {
   "cell_type": "code",
   "execution_count": 19,
   "metadata": {},
   "outputs": [
    {
     "data": {
      "text/plain": [
       "120000"
      ]
     },
     "execution_count": 19,
     "metadata": {},
     "output_type": "execute_result"
    }
   ],
   "source": [
    "len(p)"
   ]
  },
  {
   "cell_type": "code",
   "execution_count": 20,
   "metadata": {},
   "outputs": [
    {
     "data": {
      "image/png": "[encoded data removed]",
      "text/plain": [
       "<Figure size 432x288 with 1 Axes>"
      ]
     },
     "metadata": {
      "needs_background": "light"
     },
     "output_type": "display_data"
    }
   ],
   "source": [
    "plt.plot(p[::100], 'r.', alpha=0.3)\n",
    "plt.grid()\n",
    "plt.ylim([0,0.18])\n",
    "plt.show()"
   ]
  },
  {
   "cell_type": "code",
   "execution_count": 21,
   "metadata": {},
   "outputs": [],
   "source": [
    "interv = 100"
   ]
  },
  {
   "cell_type": "code",
   "execution_count": 22,
   "metadata": {},
   "outputs": [],
   "source": [
    "q = [np.mean(p[i:i+interv]) for i in range(len(p)-interv)]"
   ]
  },
  {
   "cell_type": "code",
   "execution_count": 23,
   "metadata": {},
   "outputs": [
    {
     "data": {
      "image/png": "[encoded data removed]",
      "text/plain": [
       "<Figure size 432x288 with 1 Axes>"
      ]
     },
     "metadata": {
      "needs_background": "light"
     },
     "output_type": "display_data"
    }
   ],
   "source": [
    "plt.plot(q[::100], 'r.')\n",
    "plt.grid()\n",
    "plt.ylim([0,0.05])\n",
    "plt.show()"
   ]
  },
  {
   "cell_type": "code",
   "execution_count": 24,
   "metadata": {},
   "outputs": [],
   "source": [
    "interv = 1000"
   ]
  },
  {
   "cell_type": "code",
   "execution_count": 25,
   "metadata": {},
   "outputs": [],
   "source": [
    "q1 = [np.mean(p[i:i+interv]) for i in range(len(p)-interv)]"
   ]
  },
  {
   "cell_type": "code",
   "execution_count": 83,
   "metadata": {},
   "outputs": [],
   "source": [
    "qqq1 = [np.mean(ppp[i:i+interv]) for i in range(len(ppp)-interv)]"
   ]
  },
  {
   "cell_type": "code",
   "execution_count": 85,
   "metadata": {
    "scrolled": true
   },
   "outputs": [
    {
     "data": {
      "image/png": "[encoded data removed]",
      "text/plain": [
       "<Figure size 432x288 with 1 Axes>"
      ]
     },
     "metadata": {
      "needs_background": "light"
     },
     "output_type": "display_data"
    }
   ],
   "source": [
    "plt.semilogy(q1[::100], 'r.')\n",
    "plt.semilogy(qqq1[::100], 'k.')\n",
    "\n",
    "plt.grid()\n",
    "plt.yticks([0.01,0.1,1])\n",
    "plt.ylim([0.01,2.])\n",
    "plt.xlim([-50,1300])\n",
    "plt.xlabel('iterations')\n",
    "plt.ylabel('error')\n",
    "plt.show()"
   ]
  },
  {
   "cell_type": "code",
   "execution_count": 27,
   "metadata": {},
   "outputs": [],
   "source": [
    "intervmax = 10"
   ]
  },
  {
   "cell_type": "code",
   "execution_count": 28,
   "metadata": {},
   "outputs": [],
   "source": [
    "qmax = [np.max(p[i:i+interv]) for i in range(len(p)-interv)]"
   ]
  },
  {
   "cell_type": "code",
   "execution_count": 29,
   "metadata": {},
   "outputs": [
    {
     "data": {
      "image/png": "[encoded data removed]",
      "text/plain": [
       "<Figure size 432x288 with 1 Axes>"
      ]
     },
     "metadata": {
      "needs_background": "light"
     },
     "output_type": "display_data"
    }
   ],
   "source": [
    "plt.plot(qmax[::100], 'r.')\n",
    "plt.grid()\n",
    "plt.ylim([0,0.4])\n",
    "plt.show()"
   ]
  },
  {
   "cell_type": "code",
   "execution_count": 86,
   "metadata": {},
   "outputs": [],
   "source": [
    "train_loss_list = [i[0].cpu().data.numpy()for i in data]"
   ]
  },
  {
   "cell_type": "code",
   "execution_count": 87,
   "metadata": {},
   "outputs": [],
   "source": [
    "robust_loss_list = [i[1].cpu().data.numpy() for i in data]"
   ]
  },
  {
   "cell_type": "code",
   "execution_count": 88,
   "metadata": {},
   "outputs": [],
   "source": [
    "tll1 = [np.mean(train_loss_list[i:i+interv]) for i in range(len(train_loss_list)-interv)]"
   ]
  },
  {
   "cell_type": "code",
   "execution_count": 89,
   "metadata": {},
   "outputs": [],
   "source": [
    "rll1 = [np.mean(robust_loss_list[i:i+interv]) for i in range(len(robust_loss_list)-interv)]"
   ]
  },
  {
   "cell_type": "code",
   "execution_count": 117,
   "metadata": {},
   "outputs": [
    {
     "data": {
      "image/png": "[encoded data removed]",
      "text/plain": [
       "<Figure size 432x288 with 1 Axes>"
      ]
     },
     "metadata": {
      "needs_background": "light"
     },
     "output_type": "display_data"
    }
   ],
   "source": [
    "p1 = plt.semilogy(rll1[::100], 'k')\n",
    "p2 = plt.semilogy(tll1[::100], 'r')\n",
    "\n",
    "plt.grid()\n",
    "#plt.yticks([0.01,0.1,1])\n",
    "#plt.ylim([0.01,2.])\n",
    "plt.xlim([-50,1300])\n",
    "plt.xlabel('iterations(=12*Epoch)')\n",
    "plt.ylabel('Cross entropy loss')\n",
    "plt.legend((p1[0], p2[0]), ('robust train', 'normal train'), loc='upper center', bbox_to_anchor=(0.5, 1.25), ncol=2)\n",
    "\n",
    "plt.show()"
   ]
  },
  {
   "cell_type": "code",
   "execution_count": 31,
   "metadata": {},
   "outputs": [],
   "source": [
    "with open('robust_net.pkl', 'wb') as output:\n",
    "    pickle.dump(robust_net, output, pickle.HIGHEST_PROTOCOL)"
   ]
  },
  {
   "cell_type": "code",
   "execution_count": 32,
   "metadata": {},
   "outputs": [],
   "source": [
    "del robust_ce\n",
    "del robust_err"
   ]
  },
  {
   "cell_type": "markdown",
   "metadata": {},
   "source": [
    "# Test"
   ]
  },
  {
   "cell_type": "code",
   "execution_count": 33,
   "metadata": {},
   "outputs": [
    {
     "name": "stdout",
     "output_type": "stream",
     "text": [
      "============================================================\n",
      "Robust xentropy loss: 0.2330, Robust err: 0.066\n",
      "Plain loss: 0.07398, Plain err: 0.02220\n",
      "time taken:  7.282047510147095\n"
     ]
    }
   ],
   "source": [
    "st = time.time()\n",
    "\n",
    "test_list = []\n",
    "for j, (batch_images, batch_labels) in enumerate(test_data_loader):\n",
    "    X = Variable(batch_images.cuda())\n",
    "    Y = Variable(batch_labels.cuda())        \n",
    "\n",
    "    out = robust_net.cuda()(X)\n",
    "    robust_ce, robust_err = robust_loss(robust_net.cuda(), epsilon, X, batch_labels.cuda())\n",
    "\n",
    "\n",
    "    l2 = nn.CrossEntropyLoss()(out, Y)\n",
    "    err = (out.max(1)[1].data != batch_labels.cuda()).float().mean()\n",
    "\n",
    "    test_list.append((robust_ce.cpu().data.numpy(), robust_err,l2.cpu().data.numpy(), err.cpu().data.numpy()))\n",
    "    if j % 10 == 0:\n",
    "         print('%.2f %%'%(100*j/(n_samples/(batch_size))), end='\\r')\n",
    "#         if j % 10 == 0 and j != (n_samples//batch_size-1):\n",
    "#             print('.', end='')\n",
    "#         if j == (n_samples//batch_size-1):\n",
    "#             print('.')            \n",
    "print('='*60)\n",
    "robust_ce = np.mean(np.array([i[0] for i in test_list]))\n",
    "robust_err = np.mean(np.array([i[1] for i in test_list]))\n",
    "l2 = np.mean(np.array([i[2] for i in test_list]))\n",
    "err = np.mean(np.array([i[3] for i in test_list]))\n",
    "\n",
    "print('Robust xentropy loss: %.4f, Robust err: %.3f'%(robust_ce, robust_err))\n",
    "print('Plain loss: %.5f, Plain err: %.5f'%(l2, err))\n",
    "tt = time.time()-st\n",
    "print('time taken: ', tt)"
   ]
  },
  {
   "cell_type": "code",
   "execution_count": 34,
   "metadata": {},
   "outputs": [],
   "source": [
    "def mean(l): \n",
    "    return sum(l)/len(l)\n",
    "\n",
    "def _fgs(model, X, y, epsilon): \n",
    "    opt = optim.Adam([X], lr=1e-3)\n",
    "    out = model(X)\n",
    "    ce = nn.CrossEntropyLoss()(out, y)\n",
    "    err = (out.data.max(1)[1] != y.data).float().sum()  / X.size(0)\n",
    "\n",
    "    opt.zero_grad()\n",
    "    ce.backward()\n",
    "    eta = X.grad.data.sign()*epsilon\n",
    "    \n",
    "    X_fgs = Variable(X.data + eta)\n",
    "    err_fgs = (model(X_fgs).data.max(1)[1] != y.data).float().sum()  / X.size(0)\n",
    "    return err, err_fgs\n",
    "\n",
    "def fgs(loader, model, epsilon, verbose=False, robust=False): \n",
    "    return attack(loader, model, epsilon, verbose=verbose, atk=_fgs,\n",
    "                  robust=robust)\n",
    "\n",
    "\n",
    "def _pgd(model, X, y, epsilon, niters=100, alpha=0.01): \n",
    "    out = model(X)\n",
    "    ce = nn.CrossEntropyLoss()(out, y)\n",
    "    err = (out.data.max(1)[1] != y.data).float().sum()  / X.size(0)\n",
    "\n",
    "    X_pgd = Variable(X.data, requires_grad=True)\n",
    "    for i in range(niters): \n",
    "        opt = optim.Adam([X_pgd], lr=1e-3)\n",
    "        opt.zero_grad()\n",
    "        loss = nn.CrossEntropyLoss()(model(X_pgd), y)\n",
    "        loss.backward()\n",
    "        eta = alpha*X_pgd.grad.data.sign()\n",
    "        X_pgd = Variable(X_pgd.data + eta, requires_grad=True)\n",
    "        \n",
    "        # adjust to be within [-epsilon, epsilon]\n",
    "        eta = torch.clamp(X_pgd.data - X.data, -epsilon, epsilon)\n",
    "        X_pgd = Variable(X.data + eta, requires_grad=True)\n",
    "        \n",
    "    err_pgd = (model(X_pgd).data.max(1)[1] != y.data).float().sum() / X.size(0)\n",
    "    return err, err_pgd\n",
    "\n",
    "def pgd(loader, model, epsilon, niters=100, alpha=0.01, verbose=False,\n",
    "        robust=False):\n",
    "    return attack(loader, model, epsilon, verbose=verbose, atk=_pgd,\n",
    "                  robust=robust)\n",
    "\n",
    "def attack(loader, model, epsilon, verbose=False, atk=None,\n",
    "           robust=False):\n",
    "    \n",
    "    total_err, total_fgs, total_robust = [],[],[]\n",
    "    if verbose: \n",
    "        print(\"Requiring no gradients for parameters.\")\n",
    "    for p in model.parameters(): \n",
    "        p.requires_grad = False\n",
    "    \n",
    "    for i, (X,y) in enumerate(loader):\n",
    "        X,y = Variable(X.cuda(), requires_grad=True), Variable(y.cuda().long())\n",
    "\n",
    "        if y.dim() == 2: \n",
    "            y = y.squeeze(1)\n",
    "        \n",
    "        if robust: \n",
    "            robust_ce, robust_err = robust_loss(model, epsilon, X, y, True, False)\n",
    "\n",
    "        err, err_fgs = atk(model, X, y, epsilon)\n",
    "        \n",
    "        total_err.append(err.cpu().data.numpy())\n",
    "        total_fgs.append(err_fgs.cpu().data.numpy())\n",
    "        if robust: \n",
    "            total_robust.append(robust_err)\n",
    "        if verbose:\n",
    "            if i%10 == 0:\n",
    "                if robust: \n",
    "                    print('err: {} | attack: {} | robust: {}'.format(err, err_fgs, robust_err))\n",
    "                else:\n",
    "                    print('err: {} | attack: {}'.format(err, err_fgs))\n",
    "    \n",
    "    if robust:         \n",
    "        print('[TOTAL] err: {} | attack: {} | robust: {}'.format(mean(total_err), mean(total_fgs), mean(total_robust)))\n",
    "    else:\n",
    "        print('[TOTAL] err: {} | attack: {}'.format(mean(total_err), mean(total_fgs)))\n",
    "    return np.array(total_err), np.stack(total_fgs), np.stack(total_robust)\n"
   ]
  },
  {
   "cell_type": "code",
   "execution_count": 35,
   "metadata": {},
   "outputs": [
    {
     "name": "stdout",
     "output_type": "stream",
     "text": [
      "Requiring no gradients for parameters.\n",
      "err: 0.019999999552965164 | attack: 0.03999999910593033 | robust: 0.08\n",
      "err: 0.019999999552965164 | attack: 0.019999999552965164 | robust: 0.08\n",
      "err: 0.03999999910593033 | attack: 0.05999999865889549 | robust: 0.08\n",
      "err: 0.019999999552965164 | attack: 0.019999999552965164 | robust: 0.04\n",
      "err: 0.019999999552965164 | attack: 0.03999999910593033 | robust: 0.08\n",
      "err: 0.019999999552965164 | attack: 0.019999999552965164 | robust: 0.04\n",
      "err: 0.0 | attack: 0.0 | robust: 0.0\n",
      "err: 0.019999999552965164 | attack: 0.05999999865889549 | robust: 0.06\n",
      "err: 0.0 | attack: 0.0 | robust: 0.02\n",
      "err: 0.019999999552965164 | attack: 0.019999999552965164 | robust: 0.04\n",
      "err: 0.0 | attack: 0.03999999910593033 | robust: 0.06\n",
      "err: 0.03999999910593033 | attack: 0.03999999910593033 | robust: 0.04\n",
      "err: 0.019999999552965164 | attack: 0.019999999552965164 | robust: 0.06\n",
      "err: 0.03999999910593033 | attack: 0.07999999821186066 | robust: 0.12\n",
      "err: 0.03999999910593033 | attack: 0.05999999865889549 | robust: 0.06\n",
      "err: 0.0 | attack: 0.0 | robust: 0.02\n",
      "err: 0.019999999552965164 | attack: 0.03999999910593033 | robust: 0.04\n",
      "err: 0.019999999552965164 | attack: 0.09999999403953552 | robust: 0.1\n",
      "err: 0.03999999910593033 | attack: 0.09999999403953552 | robust: 0.14\n",
      "err: 0.019999999552965164 | attack: 0.05999999865889549 | robust: 0.08\n",
      "[TOTAL] err: 0.022199999503791333 | attack: 0.045899998806416986 | robust: 0.06589999999999992\n"
     ]
    }
   ],
   "source": [
    "total_err, total_pdg, total_robust = pgd(test_data_loader, robust_net, epsilon, verbose=True, robust=True)"
   ]
  }
 ],
 "metadata": {
  "anaconda-cloud": {},
  "kernelspec": {
   "display_name": "Python (lsy)",
   "language": "python",
   "name": "lsy"
  },
  "language_info": {
   "codemirror_mode": {
    "name": "ipython",
    "version": 3
   },
   "file_extension": ".py",
   "mimetype": "text/x-python",
   "name": "python",
   "nbconvert_exporter": "python",
   "pygments_lexer": "ipython3",
   "version": "3.6.7"
  }
 },
 "nbformat": 4,
 "nbformat_minor": 1
}
